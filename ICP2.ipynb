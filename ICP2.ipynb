{
  "nbformat": 4,
  "nbformat_minor": 0,
  "metadata": {
    "colab": {
      "provenance": [],
      "authorship_tag": "ABX9TyMVUvSd/D4EF/HbgyCPz17P",
      "include_colab_link": true
    },
    "kernelspec": {
      "name": "python3",
      "display_name": "Python 3"
    },
    "language_info": {
      "name": "python"
    }
  },
  "cells": [
    {
      "cell_type": "markdown",
      "metadata": {
        "id": "view-in-github",
        "colab_type": "text"
      },
      "source": [
        "<a href=\"https://colab.research.google.com/github/lohith05102001/MLICP2/blob/main/ICP2.ipynb\" target=\"_parent\"><img src=\"https://colab.research.google.com/assets/colab-badge.svg\" alt=\"Open In Colab\"/></a>"
      ]
    },
    {
      "cell_type": "markdown",
      "source": [
        "Question 1"
      ],
      "metadata": {
        "id": "Oxlq9spKUpaF"
      }
    },
    {
      "cell_type": "code",
      "source": [
        "# Number of rows to print in the diamond shape\n",
        "rows = 5\n",
        "\n",
        "for i in range(0, rows):\n",
        "  # controls the number of asterisks per row (0 to i)\n",
        "    for j in range(0, i + 1):\n",
        "        print(\"*\", end=' ')  #  Print an asterisk followed by a space\n",
        "    print(\"\\r\", end='')\n",
        "for i in range(rows - 1, 0, -1):\n",
        "  # controls asterisks per row (0 to i-1)\n",
        "    for j in range(0, i):\n",
        "        print(\"*\", end=' ')\n",
        "    print(\"\\r\", end='')\n"
      ],
      "metadata": {
        "colab": {
          "base_uri": "https://localhost:8080/"
        },
        "id": "n9I3O702UBbw",
        "outputId": "7f23d67f-d62a-4386-d20f-cedfcea0601c"
      },
      "execution_count": 3,
      "outputs": [
        {
          "output_type": "stream",
          "name": "stdout",
          "text": [
            "* \r\n",
            "* * \r\n",
            "* * * \r\n",
            "* * * * \r\n",
            "* * * * * \r\n",
            "* * * * \r\n",
            "* * * \r\n",
            "* * \r\n",
            "* \r\n",
            "\r\n"
          ]
        }
      ]
    },
    {
      "cell_type": "markdown",
      "source": [
        "Question 2"
      ],
      "metadata": {
        "id": "B1vTEznbUtjI"
      }
    },
    {
      "cell_type": "code",
      "source": [
        "#Q2\n",
        "# Used looping method to provide the elements from the list present at odd indexes.\n",
        "\n",
        "my_list = [10, 20, 30, 40, 50, 60, 70, 80, 90, 100]\n",
        "my_list = [10, 20, 30, 40, 50, 60, 70, 80, 90, 100]\n",
        "# stat from index 1 with step 2( means 1, 3, 5, an so on)\n",
        "for i in my_list[1::2]:\n",
        "    print(i, end=\" \")"
      ],
      "metadata": {
        "colab": {
          "base_uri": "https://localhost:8080/"
        },
        "id": "bm1t_z3nUbOC",
        "outputId": "dc7c0d88-d86a-474f-a012-36eff1cb8084"
      },
      "execution_count": 4,
      "outputs": [
        {
          "output_type": "stream",
          "name": "stdout",
          "text": [
            "20 40 60 80 100 "
          ]
        }
      ]
    },
    {
      "cell_type": "markdown",
      "source": [
        "Question 3"
      ],
      "metadata": {
        "id": "J7DQ0VhHUvdW"
      }
    },
    {
      "cell_type": "code",
      "source": [
        "#Q3.\n",
        "# Append a list with types of elements\n",
        "\n",
        "x = [23,'Python', 23.98]\n",
        "  # Create an empty list to store the element types\n",
        "n = []\n",
        "for i in range(len(x)):\n",
        "  #Use the `type()` function to get the data type of each element\n",
        "    n.append(type(x[i]))\n",
        "print(n)\n",
        "print(x)"
      ],
      "metadata": {
        "colab": {
          "base_uri": "https://localhost:8080/"
        },
        "id": "pMrMrBsYUffr",
        "outputId": "ca0ee3cf-61d7-4fb8-8703-915a291e88fc"
      },
      "execution_count": 5,
      "outputs": [
        {
          "output_type": "stream",
          "name": "stdout",
          "text": [
            "[<class 'int'>, <class 'str'>, <class 'float'>]\n",
            "[23, 'Python', 23.98]\n"
          ]
        }
      ]
    },
    {
      "cell_type": "markdown",
      "source": [
        "Question 4"
      ],
      "metadata": {
        "id": "yB4iVuXtUxHl"
      }
    },
    {
      "cell_type": "code",
      "source": [
        "#Q4\n",
        "#Written a function that takes a list and returns a new list with unique items of the first list.\n",
        "#Sample List: [1,2,3,3,3,3,4,5]\n",
        "def unique_list(l):\n",
        "  x = []\n",
        "#using for loop\n",
        "  for a in l:\n",
        "    if a not in x:\n",
        "      x.append(a)\n",
        "  return x\n",
        "print(unique_list([1,2,3,3,3,3,4,5]))"
      ],
      "metadata": {
        "colab": {
          "base_uri": "https://localhost:8080/"
        },
        "id": "u4ad3UubUlIJ",
        "outputId": "d9bec7d3-2912-4ed1-9740-346ab0a4d4a8"
      },
      "execution_count": 6,
      "outputs": [
        {
          "output_type": "stream",
          "name": "stdout",
          "text": [
            "[1, 2, 3, 4, 5]\n"
          ]
        }
      ]
    },
    {
      "cell_type": "markdown",
      "source": [
        "Question 5"
      ],
      "metadata": {
        "id": "CWFteD2YU0PB"
      }
    },
    {
      "cell_type": "code",
      "source": [
        "def count_upper_lower(s):\n",
        "  count_upper = 0\n",
        "  count_lower = 0\n",
        "\n",
        "  for char in s:\n",
        "    if char.isupper():  # Check if character is uppercase\n",
        "      count_upper += 1  # Increment uppercase count\n",
        "    elif char.islower():  # Check if character is lowercase\n",
        "      count_lower += 1  # Increment lowercase count\n",
        "\n",
        "  # Print results (outside the loop for better readability)\n",
        "  print(\"Original String:\", s)\n",
        "  print(\"No. of Upper-case characters:\", count_upper)\n",
        "  print(\"No. of Lower-case Characters:\", count_lower)\n",
        "\n",
        "# Input string\n",
        "input_string = 'The quick Brow Fox'\n",
        "\n",
        "# Call the function to count letters\n",
        "count_upper_lower(input_string)\n"
      ],
      "metadata": {
        "colab": {
          "base_uri": "https://localhost:8080/"
        },
        "id": "65fxKv2aUntr",
        "outputId": "939e8cd2-b3b5-4785-bbc8-5e25774f5a79"
      },
      "execution_count": 9,
      "outputs": [
        {
          "output_type": "stream",
          "name": "stdout",
          "text": [
            "Original String: The quick Brow Fox\n",
            "No. of Upper-case characters: 3\n",
            "No. of Lower-case Characters: 12\n"
          ]
        }
      ]
    }
  ]
}